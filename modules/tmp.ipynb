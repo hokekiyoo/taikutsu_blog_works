{
 "cells": [
  {
   "cell_type": "markdown",
   "metadata": {},
   "source": [
    "## 類似記事をDoc2vecで出す\n",
    "やること\n",
    "- 全記事から本文抽出 : どこまで出すかはポインツ([ref](http://d.hatena.ne.jp/s-yata/20100619/1276961636) )\n",
    "- mecabを使って分かち書き\n",
    "    - reference : [Ubuntu 14.04 に Mecab と mecab-python3 をインストール - Qiita](https://qiita.com/elm200/items/2c2aa2093e670036bb30)\n",
    "- gensimをつかってdoc2vec\n",
    "    - reference : [Cos類似度とDoc2Vecってどっちが良いの？](https://qiita.com/enta0701/items/87cbe783aeb44ddf41ce)\n",
    "- 距離が出たら多次元尺度法でplotting\n",
    "    - reference : [多次元尺度法で遊んでみる](http://d.hatena.ne.jp/download_takeshi/20100410/1270921957)"
   ]
  },
  {
   "cell_type": "code",
   "execution_count": null,
   "metadata": {
    "collapsed": true
   },
   "outputs": [],
   "source": [
    "#coding: utf-8\n",
    "\n",
    "from bs4 import BeautifulSoup\n",
    "import urllib\n",
    "from urllib import request\n",
    "import time\n",
    "import csv\n",
    "import os\n",
    "from argparse import ArgumentParser\n",
    "import datetime\n",
    "import json\n",
    "\n",
    "def extract_urls(root_url):\n",
    "    \"\"\"\n",
    "    トップページを指定すると、ブログ内に存在するurlをすべて抜き出してくれる\n",
    "    \"\"\"\n",
    "    is_articles = True\n",
    "    page = 1\n",
    "    urls = []\n",
    "    # writer = csv.writer(f, lineterminator='\\n') # 改行コード（\\n）を指定しておく\n",
    "    while is_articles:\n",
    "        try:\n",
    "            html = request.urlopen(\"{}/archive?page={}\".format(root_url, page))\n",
    "        except urllib.error.HTTPError as e: \n",
    "            # HTTPレスポンスのステータスコードが404, 403, 401などの例外処理\n",
    "            print(e.reason)\n",
    "            break\n",
    "        except urllib.error.URLError as e: \n",
    "            # アクセスしようとしたurlが無効なときの例外処理\n",
    "            print(e.reason)\n",
    "            break\n",
    "        soup = BeautifulSoup(html, \"html.parser\")\n",
    "        articles = soup.find_all(\"a\",class_=\"entry-title-link\")\n",
    "        for article in articles:\n",
    "            urls.append(article.get(\"href\"))\n",
    "        if len(articles) == 0:\n",
    "            # articleがなくなったら終了\n",
    "            is_articles = False\n",
    "        page += 1\n",
    "    return urls\n",
    "\n",
    "def extract_text(url):\n",
    "    try:\n",
    "        html = request.urlopen(url)\n",
    "    except urllib.error.HTTPError as e: \n",
    "        # HTTPレスポンスのステータスコードが404, 403, 401などの例外処理\n",
    "        print(e.reason)\n",
    "    except urllib.error.URLError as e: \n",
    "        # アクセスしようとしたurlが無効なときの例外処理\n",
    "        print(e.reason)\n",
    "    soup = BeautifulSoup(html, \"html.parser\")\n",
    "    entry = soup.find(\"div\",class_=\"entry-content\")\n",
    "    ps = entry.find_all([\"p\",\"h2\",\"h3\",\"li\"])\n",
    "    text = \"\"\n",
    "    for p in ps:\n",
    "        text += p.text\n",
    "    return text\n"
   ]
  },
  {
   "cell_type": "markdown",
   "metadata": {},
   "source": [
    "## mecabを使って単語抽出"
   ]
  },
  {
   "cell_type": "code",
   "execution_count": null,
   "metadata": {
    "collapsed": false
   },
   "outputs": [],
   "source": [
    "import MeCab\n",
    "def words(text):\n",
    "    \"\"\"\n",
    "        文章から単語を抽出\n",
    "    \"\"\"\n",
    "    out_words = []\n",
    "    tagger = MeCab.Tagger('-Ochasen')\n",
    "    tagger.parse('')\n",
    "    node = tagger.parseToNode(text)\n",
    "\n",
    "    while node:\n",
    "        word_type = node.feature.split(\",\")[0]\n",
    "        if word_type in [\"名詞\"]:        \n",
    "            out_words.append(node.surface)\n",
    "        node = node.next\n",
    "    return out_words"
   ]
  },
  {
   "cell_type": "code",
   "execution_count": null,
   "metadata": {
    "collapsed": false
   },
   "outputs": [],
   "source": [
    "# url = urls[2]\n",
    "# text = extract_text(url)\n",
    "# w_list = words(text)\n",
    "# print(w_list)"
   ]
  },
  {
   "cell_type": "markdown",
   "metadata": {},
   "source": [
    "## Doc2Vecに突っ込むべ"
   ]
  },
  {
   "cell_type": "code",
   "execution_count": null,
   "metadata": {
    "collapsed": false
   },
   "outputs": [],
   "source": [
    "from gensim.models.doc2vec import Doc2Vec\n",
    "from gensim.models.doc2vec import TaggedDocument\n",
    "from collections import OrderedDict\n",
    "root_url = \"http://www.procrasist.com\"\n",
    "\n",
    "urls = extract_urls(root_url)\n",
    "training_docs = []\n",
    "num = len(urls)\n",
    "for i, url in enumerate(urls):\n",
    "    print(i+1,\"/\",num,\" : \", urls[i])\n",
    "    text = extract_text(url)\n",
    "    w_list = words(text)\n",
    "    training_docs.append(TaggedDocument(words=w_list, tags=[\"article-\"+str(i)]))\n"
   ]
  },
  {
   "cell_type": "code",
   "execution_count": null,
   "metadata": {
    "collapsed": false
   },
   "outputs": [],
   "source": [
    "model = Doc2Vec(documents=training_docs, min_count=1, dm=0)\n",
    "tags = [\"article-\"+str(i) for i in range(len(training_docs))]"
   ]
  },
  {
   "cell_type": "code",
   "execution_count": null,
   "metadata": {
    "collapsed": false
   },
   "outputs": [],
   "source": [
    "# import numpy as np\n",
    "# M = np.zeros((len(tags),len(tags)))\n",
    "# for i,tag1 in enumerate(tags):\n",
    "#     for j,tag2 in enumerate(tags):\n",
    "#         M[i][j] = 1-model.docvecs.similarity(tag1,tag2)\n",
    "\n",
    "for i,tag in enumerate(tags):\n",
    "    print(tag, urls[i])\n",
    "    for items in model.docvecs.most_similar(tag):\n",
    "        index = int(items[0].split(\"-\")[1])\n",
    "        print(\"\\t{} : {}\".format(items[1], urls[index]))\n"
   ]
  },
  {
   "cell_type": "markdown",
   "metadata": {},
   "source": [
    "## 多次元尺度法\n",
    "2Dにプロット"
   ]
  },
  {
   "cell_type": "code",
   "execution_count": null,
   "metadata": {
    "collapsed": false
   },
   "outputs": [],
   "source": [
    "%matplotlib inline\n",
    "import matplotlib.pyplot as plt\n",
    "from sklearn import manifold\n",
    "mds = manifold.MDS(n_components=2, dissimilarity=\"precomputed\")\n",
    "pos = mds.fit_transform(M)\n",
    "plt.scatter(pos[:,0],pos[:,1],marker=\"x\",alpha=0.5)"
   ]
  }
 ],
 "metadata": {
  "anaconda-cloud": {},
  "kernelspec": {
   "display_name": "Python [Root]",
   "language": "python",
   "name": "Python [Root]"
  },
  "language_info": {
   "codemirror_mode": {
    "name": "ipython",
    "version": 3
   },
   "file_extension": ".py",
   "mimetype": "text/x-python",
   "name": "python",
   "nbconvert_exporter": "python",
   "pygments_lexer": "ipython3",
   "version": "3.5.1"
  }
 },
 "nbformat": 4,
 "nbformat_minor": 2
}
